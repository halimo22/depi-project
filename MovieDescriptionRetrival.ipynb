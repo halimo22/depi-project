{
 "cells": [
  {
   "cell_type": "code",
   "execution_count": null,
   "metadata": {},
   "outputs": [],
   "source": [
    "!pip install IMDbPY pandas matplotlib numpy kagglehub"
   ]
  },
  {
   "cell_type": "markdown",
   "metadata": {},
   "source": [
    "## Load Dataset"
   ]
  },
  {
   "cell_type": "code",
   "execution_count": null,
   "metadata": {},
   "outputs": [],
   "source": [
    "import pandas as pd\n",
    "\n",
    "df_title_basics = pd.read_csv('Datasets/title.basics.tsv.gz', compression='gzip', sep='\\t', low_memory=False)\n",
    "print(df_title_basics.head())"
   ]
  },
  {
   "cell_type": "code",
   "execution_count": null,
   "metadata": {},
   "outputs": [],
   "source": [
    "print(len(df_title_basics))"
   ]
  },
  {
   "cell_type": "code",
   "execution_count": null,
   "metadata": {},
   "outputs": [],
   "source": [
    "# Convert startYear to numeric, forcing errors to NaN\n",
    "df_title_basics['startYear'] = pd.to_numeric(df_title_basics['startYear'], errors='coerce')\n",
    "\n",
    "# Filter out rows where startYear is less than 1970\n",
    "df_title_basics = df_title_basics[df_title_basics['startYear'] >= 1970]\n",
    "\n",
    "print(df_title_basics.head())\n",
    "print(len(df_title_basics))"
   ]
  },
  {
   "cell_type": "markdown",
   "metadata": {},
   "source": [
    "### Remove Data without length"
   ]
  },
  {
   "cell_type": "code",
   "execution_count": null,
   "metadata": {},
   "outputs": [],
   "source": [
    "df_title_basics = df_title_basics[df_title_basics['runtimeMinutes'] != '\\\\N']\n",
    "\n",
    "print(df_title_basics.head())\n",
    "print(len(df_title_basics))"
   ]
  },
  {
   "cell_type": "markdown",
   "metadata": {},
   "source": [
    "### Remove movies with empty genres"
   ]
  },
  {
   "cell_type": "code",
   "execution_count": null,
   "metadata": {},
   "outputs": [],
   "source": [
    "\n",
    "df_title_basics = df_title_basics[df_title_basics['genres'] != '\\\\N']\n",
    "\n",
    "print(df_title_basics.head())\n",
    "print(len(df_title_basics))"
   ]
  },
  {
   "cell_type": "markdown",
   "metadata": {},
   "source": [
    "### Plot Genres"
   ]
  },
  {
   "cell_type": "code",
   "execution_count": null,
   "metadata": {},
   "outputs": [],
   "source": [
    "import matplotlib.pyplot as plt\n",
    "\n",
    "df_genres = df_title_basics['genres'].str.split(',', expand=True).stack().reset_index(level=1, drop=True)\n",
    "df_genres.name = 'genre'\n",
    "\n",
    "genre_counts = df_genres.value_counts()\n",
    "\n",
    "plt.figure(figsize=(12, 8))\n",
    "genre_counts.plot(kind='bar')\n",
    "plt.title('Number of Occurrences of Each Genre')\n",
    "plt.xlabel('Genre')\n",
    "plt.ylabel('Number of Occurrences')\n",
    "plt.show()"
   ]
  },
  {
   "cell_type": "markdown",
   "metadata": {},
   "source": [
    "### Filter out rows where titleType is not 'movie'\n"
   ]
  },
  {
   "cell_type": "code",
   "execution_count": null,
   "metadata": {},
   "outputs": [],
   "source": [
    "df_title_basics = df_title_basics[df_title_basics['titleType'] == 'movie']\n",
    "\n",
    "print(df_title_basics.head())\n",
    "print(len(df_title_basics))\n"
   ]
  },
  {
   "cell_type": "code",
   "execution_count": null,
   "metadata": {},
   "outputs": [],
   "source": [
    "import matplotlib.pyplot as plt\n",
    "\n",
    "df_genres = df_title_basics['genres'].str.split(',', expand=True).stack().reset_index(level=1, drop=True)\n",
    "df_genres.name = 'genre'\n",
    "\n",
    "genre_counts = df_genres.value_counts()\n",
    "\n",
    "# Plot the results\n",
    "plt.figure(figsize=(12, 8))\n",
    "genre_counts.plot(kind='bar')\n",
    "plt.title('Number of Occurrences of Each Genre')\n",
    "plt.xlabel('Genre')\n",
    "plt.ylabel('Number of Occurrences')\n",
    "plt.show()"
   ]
  },
  {
   "cell_type": "code",
   "execution_count": null,
   "metadata": {},
   "outputs": [],
   "source": [
    "# Filter for Reality-TV genre\n",
    "reality_tv_example = df_title_basics[df_title_basics['genres'].str.contains('Reality-TV', na=False)].head(1)\n",
    "print(\"Reality-TV Example:\")\n",
    "print(reality_tv_example)\n",
    "\n",
    "# Filter for News genre\n",
    "news_example = df_title_basics[df_title_basics['genres'].str.contains('News', na=False)].head(1)\n",
    "print(\"\\nNews Example:\")\n",
    "print(news_example)\n",
    "\n",
    "# Filter for Game-Show genre\n",
    "gameshow_example = df_title_basics[df_title_basics['genres'].str.contains('Game-Show', na=False)].head(1)\n",
    "print(\"\\nGame-Show Example:\")\n",
    "print(gameshow_example)"
   ]
  },
  {
   "cell_type": "code",
   "execution_count": null,
   "metadata": {
    "vscode": {
     "languageId": "javascript"
    }
   },
   "outputs": [],
   "source": [
    "df_title_basics = df_title_basics.drop(columns=['endYear', 'originalTitle'])\n",
    "print(df_title_basics.head())\n",
    "print(df_title_basics.columns)"
   ]
  },
  {
   "cell_type": "markdown",
   "metadata": {},
   "source": [
    "## Adding Movie Descriptions"
   ]
  },
  {
   "cell_type": "code",
   "execution_count": 1,
   "metadata": {},
   "outputs": [],
   "source": [
    "import pandas as pd\n",
    "df_title_basics=pd.read_csv('Datasets/df_title_basics.csv')"
   ]
  },
  {
   "cell_type": "code",
   "execution_count": null,
   "metadata": {},
   "outputs": [],
   "source": [
    "import os\n",
    "\n",
    "max_threads = os.cpu_count()\n",
    "print(f\"Maximum number of threads you can deploy: {max_threads}\")"
   ]
  },
  {
   "cell_type": "code",
   "execution_count": null,
   "metadata": {},
   "outputs": [],
   "source": [
    "from imdb import IMDb\n",
    "import concurrent.futures\n",
    "\n",
    "ia = IMDb()\n",
    "i = 0\n",
    "max_threads=24\n",
    "# Function to fetch movie description \n",
    "def fetch_movie_description(tconst):\n",
    "    global i\n",
    "    try:\n",
    "        movie = ia.get_movie(tconst[2:])  \n",
    "        i += 1\n",
    "        print(i)\n",
    "        return movie.get('plot outline', 'No description available')\n",
    "    except Exception as e:\n",
    "        return 'No description available'\n",
    "\n",
    "# Function to fetch descriptions for a specific set of entries using multithreading\n",
    "def fetch_descriptions_for_set(df):\n",
    "    with concurrent.futures.ThreadPoolExecutor(max_workers=max_threads) as executor:\n",
    "        descriptions = list(executor.map(fetch_movie_description, df['tconst']))\n",
    "    \n",
    "    df['description'] = descriptions\n",
    "    return df\n",
    "\n",
    "# Divide the dataframe into chunks based on the number of threads\n",
    "chunk_size = len(df_title_basics) // max_threads + 1\n",
    "df_title_basics_chunks = [df_title_basics.iloc[i:i + chunk_size] for i in range(0, len(df_title_basics), chunk_size)]\n",
    "\n",
    "# Fetch descriptions for each chunk\n",
    "df_title_basics_subsets = []\n",
    "for chunk in df_title_basics_chunks:\n",
    "    df_subset = fetch_descriptions_for_set(chunk)\n",
    "    df_title_basics_subsets.append(df_subset)\n",
    "    print(f\"Completed fetching descriptions for chunk {len(df_title_basics_subsets)}/{len(df_title_basics_chunks)}\")\n",
    "\n",
    "# Combine all subsets back into a single dataframe\n",
    "df_title_basics = pd.concat(df_title_basics_subsets)\n",
    "\n",
    "print(df_title_basics.head())\n"
   ]
  },
  {
   "cell_type": "code",
   "execution_count": 13,
   "metadata": {},
   "outputs": [],
   "source": [
    "df_title_basics.to_csv('df_title_basics.csv', index=False)"
   ]
  },
  {
   "cell_type": "code",
   "execution_count": null,
   "metadata": {},
   "outputs": [],
   "source": [
    "df_title_basics.head()"
   ]
  },
  {
   "cell_type": "code",
   "execution_count": null,
   "metadata": {},
   "outputs": [],
   "source": [
    "empty_descriptions_count = df_title_basics[df_title_basics['description'] == ''].shape[0]\n",
    "no_description_available_count = df_title_basics[df_title_basics['description'] == 'No description available'].shape[0]\n",
    "\n",
    "print(f\"Number of movies with empty description: {empty_descriptions_count}\")\n",
    "print(f\"Number of movies with 'No description available': {no_description_available_count}\")\n",
    "print(f\"Total number of movies with empty or no description available: {empty_descriptions_count + no_description_available_count}\")"
   ]
  },
  {
   "cell_type": "code",
   "execution_count": null,
   "metadata": {},
   "outputs": [],
   "source": []
  }
 ],
 "metadata": {
  "kernelspec": {
   "display_name": ".venv",
   "language": "python",
   "name": "python3"
  },
  "language_info": {
   "codemirror_mode": {
    "name": "ipython",
    "version": 3
   },
   "file_extension": ".py",
   "mimetype": "text/x-python",
   "name": "python",
   "nbconvert_exporter": "python",
   "pygments_lexer": "ipython3",
   "version": "3.12.3"
  }
 },
 "nbformat": 4,
 "nbformat_minor": 2
}
